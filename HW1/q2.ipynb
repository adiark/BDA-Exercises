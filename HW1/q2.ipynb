{
 "cells": [
  {
   "cell_type": "code",
   "execution_count": 37,
   "id": "f0a4bf71",
   "metadata": {},
   "outputs": [],
   "source": [
    "# Importing libraries and creating client\n",
    "import pymongo\n",
    "from pymongo import MongoClient\n",
    "client = MongoClient('localhost', 27017)"
   ]
  },
  {
   "cell_type": "code",
   "execution_count": 38,
   "id": "d0a4b990",
   "metadata": {},
   "outputs": [],
   "source": [
    "# Creating a database/ collection by name wiki\n",
    "db = client['best_buy']"
   ]
  },
  {
   "cell_type": "code",
   "execution_count": 39,
   "id": "e57b4af0",
   "metadata": {},
   "outputs": [
    {
     "data": {
      "text/plain": [
       "0"
      ]
     },
     "execution_count": 39,
     "metadata": {},
     "output_type": "execute_result"
    }
   ],
   "source": [
    "# Checking document counts\n",
    "collection = db.best_buy\n",
    "collection.estimated_document_count()"
   ]
  },
  {
   "cell_type": "code",
   "execution_count": 40,
   "id": "a07e2249",
   "metadata": {},
   "outputs": [],
   "source": [
    "with open(\"bestbuy.csv\", \"r\", encoding= \"UTF-8\") as f:\n",
    "    for line in f:\n",
    "        columns = line.strip().split(',')\n",
    "        record = { 'user': columns[0],'sku': columns[1],'category': columns[2], 'query': columns[3],\n",
    "                 'click_time': columns[4], 'query_time': columns[5],}\n",
    "        collection.insert_one(record)"
   ]
  },
  {
   "cell_type": "code",
   "execution_count": 41,
   "id": "791aca41",
   "metadata": {},
   "outputs": [
    {
     "data": {
      "text/plain": [
       "15211"
      ]
     },
     "execution_count": 41,
     "metadata": {},
     "output_type": "execute_result"
    }
   ],
   "source": [
    "# Total count in the collection \n",
    "collection.estimated_document_count()"
   ]
  },
  {
   "cell_type": "code",
   "execution_count": 44,
   "id": "e34f36c0",
   "metadata": {},
   "outputs": [
    {
     "name": "stdout",
     "output_type": "stream",
     "text": [
      "{'_id': '2842056', 'count': 1227}\n",
      "{'_id': '2842092', 'count': 673}\n",
      "{'_id': '1945531', 'count': 654}\n",
      "{'_id': '9755322', 'count': 634}\n",
      "{'_id': '9225377', 'count': 557}\n"
     ]
    }
   ],
   "source": [
    "# Top 5 items from the collection\n",
    "df = collection.aggregate([\n",
    "    {\"$group\" : {\"_id\":\"$sku\", \"count\" :{\"$sum\":1}}}, {\"$sort\" : {\"count\": -1}}, {\"$limit\": 5}\n",
    "])\n",
    "\n",
    "for i in df:\n",
    "    print(i)\n"
   ]
  },
  {
   "cell_type": "code",
   "execution_count": 45,
   "id": "ebcdded2",
   "metadata": {},
   "outputs": [],
   "source": [
    "client.close()"
   ]
  }
 ],
 "metadata": {
  "kernelspec": {
   "display_name": "Python 3",
   "language": "python",
   "name": "python3"
  },
  "language_info": {
   "codemirror_mode": {
    "name": "ipython",
    "version": 3
   },
   "file_extension": ".py",
   "mimetype": "text/x-python",
   "name": "python",
   "nbconvert_exporter": "python",
   "pygments_lexer": "ipython3",
   "version": "3.6.13"
  }
 },
 "nbformat": 4,
 "nbformat_minor": 5
}
