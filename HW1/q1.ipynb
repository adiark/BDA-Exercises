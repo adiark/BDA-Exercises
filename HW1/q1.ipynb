{
 "cells": [
  {
   "cell_type": "code",
   "execution_count": 40,
   "id": "bb8c7372",
   "metadata": {},
   "outputs": [],
   "source": [
    "# Importing libraries and reading wiki_edit.txt file  \n",
    "import pandas as p\n",
    "import mysql.connector\n",
    "from mysql.connector import errorcode\n",
    "\n",
    "data = p.read_csv('bestbuy.csv',sep=',',header=0,)\n",
    "data[:5]\n",
    "data = data.applymap(str)"
   ]
  },
  {
   "cell_type": "code",
   "execution_count": 41,
   "id": "30c7a417",
   "metadata": {},
   "outputs": [],
   "source": [
    "# Credentials\n",
    "uname = \"jainadi5\"\n",
    "pwd = \"A81237526\" # Replaced by X after executing code \n",
    "hname = \"mysql-user-cse.egr.msu.edu\""
   ]
  },
  {
   "cell_type": "code",
   "execution_count": 42,
   "id": "edfc7332",
   "metadata": {},
   "outputs": [],
   "source": [
    "try:\n",
    "    cnx = mysql.connector.connect(user=uname, password=pwd, host=hname, database=uname)\n",
    "    cursor = cnx.cursor()\n",
    "    query = \"DROP TABLE IF EXISTS best_buy\"\n",
    "    cursor.execute(query)\n",
    "\n",
    "    query = \"\"\"CREATE TABLE IF NOT EXISTS best_buy (user varchar(200), sku int, \n",
    "                                category varchar(100), query varchar(100),click_time varchar(100), query_time varchar(100))\n",
    "            \"\"\"\n",
    "    cursor.execute(query)\n",
    "    cursor.close()\n",
    "    cnx.commit()\n",
    "    cnx.close()\n",
    "    \n",
    "except:\n",
    "    print(mysql.connector.Error)\n",
    "\n",
    "# Varchar(100) changed to varchar (200) for ArticleName due to presence of large size of article name in the database "
   ]
  },
  {
   "cell_type": "code",
   "execution_count": 43,
   "id": "6b9d8334",
   "metadata": {},
   "outputs": [],
   "source": [
    "def byUnicode(char):\n",
    "    if ord(char) < 48 or ord(char) > 127: return ''\n",
    "    else: return char"
   ]
  },
  {
   "cell_type": "code",
   "execution_count": 44,
   "id": "9a061b4e",
   "metadata": {},
   "outputs": [],
   "source": [
    "try:\n",
    "    cnx = mysql.connector.connect(user=uname, password=pwd, host=hname, database=uname)\n",
    "    cursor = cnx.cursor()\n",
    "    for index, row in data.iterrows():\n",
    "        user = row['user']\n",
    "        sku = row['sku']\n",
    "        category = row['category']\n",
    "        que = row['query']\n",
    "        click_time = row['click_time']\n",
    "        query_time = row['query_time']\n",
    "        query = \"INSERT INTO best_buy VALUES ('\" + user + \"','\" + sku + \"','\" + category + \"','\" + que + \"','\" + click_time + \"','\"+ query_time + \"')\"\n",
    "        cursor.execute(query)\n",
    "    \n",
    "    cnx.commit()\n",
    "    cnx.close()\n",
    "\n",
    "except:\n",
    "    print(mysql.connector.Error)   "
   ]
  },
  {
   "cell_type": "code",
   "execution_count": 52,
   "id": "37393e91",
   "metadata": {},
   "outputs": [
    {
     "name": "stdout",
     "output_type": "stream",
     "text": [
      "(15210,)\n"
     ]
    }
   ],
   "source": [
    "# Total Number of Rows\n",
    "try:\n",
    "    cnx = mysql.connector.connect(user=uname, password=pwd, host=hname, database=uname)\n",
    "    cursor = cnx.cursor()\n",
    "    query = \"SELECT count(*) as Total_Records FROM best_buy\"\n",
    "    cursor.execute(query)\n",
    "    \n",
    "    for (total ) in cursor:\n",
    "        print (total)  \n",
    "    \n",
    "    cnx.close()\n",
    "    cnx.close()\n",
    "    \n",
    "except:\n",
    "    print(mysql.connector.Error) "
   ]
  },
  {
   "cell_type": "code",
   "execution_count": 58,
   "id": "09963fed",
   "metadata": {},
   "outputs": [
    {
     "name": "stdout",
     "output_type": "stream",
     "text": [
      "2842056 pcmcat209000050008 hp touch pad 1227\n",
      "2842092 pcmcat209000050008 hp pad 673\n",
      "1945531 pcmcat209000050007 iPad 654\n",
      "9755322 pcmcat247400050001 Netbook 634\n",
      "9225377 abcat0201011 iPod 557\n"
     ]
    }
   ],
   "source": [
    "try:\n",
    "    cnx = mysql.connector.connect(user=uname, password=pwd, host=hname, database=uname)\n",
    "    cursor = cnx.cursor()\n",
    "    query = \"SELECT sku, category,query, count(*) FROM best_buy GROUP BY sku ORDER BY count(*) DESC LIMIT 5\"\n",
    "    cursor.execute(query)\n",
    "    \n",
    "    for (sku,cat,que,count ) in cursor:\n",
    "        print (sku,cat,que,count)  \n",
    "    \n",
    "    cnx.close()\n",
    "    cnx.close()\n",
    "    \n",
    "except:\n",
    "    print(mysql.connector.Error) "
   ]
  }
 ],
 "metadata": {
  "kernelspec": {
   "display_name": "Python 3",
   "language": "python",
   "name": "python3"
  },
  "language_info": {
   "codemirror_mode": {
    "name": "ipython",
    "version": 3
   },
   "file_extension": ".py",
   "mimetype": "text/x-python",
   "name": "python",
   "nbconvert_exporter": "python",
   "pygments_lexer": "ipython3",
   "version": "3.6.13"
  }
 },
 "nbformat": 4,
 "nbformat_minor": 5
}
