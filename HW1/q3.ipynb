{
 "cells": [
  {
   "cell_type": "code",
   "execution_count": 1,
   "id": "9f50090f",
   "metadata": {},
   "outputs": [],
   "source": [
    "import tweepy\n",
    "import configparser\n",
    "import time\n",
    "import json"
   ]
  },
  {
   "cell_type": "code",
   "execution_count": 2,
   "id": "3ce5b095",
   "metadata": {},
   "outputs": [
    {
     "data": {
      "text/plain": [
       "['config.ini']"
      ]
     },
     "execution_count": 2,
     "metadata": {},
     "output_type": "execute_result"
    }
   ],
   "source": [
    "# keys\n",
    "config = configparser.ConfigParser()\n",
    "config.read('config.ini')"
   ]
  },
  {
   "cell_type": "code",
   "execution_count": 3,
   "id": "2171d860",
   "metadata": {},
   "outputs": [],
   "source": [
    "c_key = config['twitter']['C_KEY']\n",
    "c_secret = config['twitter']['C_SECRET']\n",
    "a_token = config['twitter']['A_TOKEN']\n",
    "a_token_secret = config['twitter']['A_TOKEN_SECRET']\n",
    "\n",
    "bearer_token = config['twitter']['bearer_token']\n",
    "\n",
    "# authenticate\n",
    "client = tweepy.Client(bearer_token= bearer_token,consumer_key = c_key, consumer_secret = c_secret, access_token = a_token, access_token_secret= a_token_secret, wait_on_rate_limit=True)\n",
    "\n",
    "# auth = tweepy.OAuthHandler(api_key, api_key_secret)\n",
    "# auth.set_access_token(access_token, access_token_secret)\n",
    "# api = tweepy.API(auth)"
   ]
  },
  {
   "cell_type": "code",
   "execution_count": 4,
   "id": "b566c6ae",
   "metadata": {},
   "outputs": [],
   "source": [
    "\n",
    "# Create a StreamListener class \n",
    "class MyStreamingClient(tweepy.StreamingClient):\n",
    "\n",
    "    def __init__(self,bearer_token, time_limit = 300):\n",
    "        self.start_time = time.time()\n",
    "        self.limit = time_limit\n",
    "        self.outFile = open('output.json', 'a', encoding = \"utf-8\")\n",
    "        super(MyStreamingClient, self).__init__(bearer_token)\n",
    "    \n",
    "    def on_data(self, data):\n",
    "        #if (time.time() - self.start_time) < self.limit:\n",
    "        self.outFile.write(data.decode('utf-8'))\n",
    "        self.outFile.write('\\n')\n",
    "        #else:\n",
    "        if (time.time() - self.start_time) > self.limit:\n",
    "            self.outFile.close()\n",
    "            self.disconnect()\n",
    "            \n",
    "    def on_error(self, status):\n",
    "        print(status)"
   ]
  },
  {
   "cell_type": "code",
   "execution_count": 5,
   "id": "4c8f5c78",
   "metadata": {},
   "outputs": [
    {
     "name": "stderr",
     "output_type": "stream",
     "text": [
      "Stream connection closed by Twitter\n"
     ]
    }
   ],
   "source": [
    "streaming_client = MyStreamingClient(bearer_token)\n",
    "streaming_client.add_rules(tweepy.StreamRule(\"michigan\"))\n",
    "streaming_client.filter()"
   ]
  },
  {
   "cell_type": "code",
   "execution_count": 6,
   "id": "e283b894",
   "metadata": {},
   "outputs": [
    {
     "data": {
      "text/plain": [
       "Response(data=[StreamRule(value='michigan', tag=None, id='1580724917594636288')], includes={}, errors=[], meta={'sent': '2022-10-15T01:05:06.901Z', 'result_count': 1})"
      ]
     },
     "execution_count": 6,
     "metadata": {},
     "output_type": "execute_result"
    }
   ],
   "source": [
    "streaming_client.get_rules()"
   ]
  },
  {
   "cell_type": "code",
   "execution_count": 7,
   "id": "fd24b711",
   "metadata": {},
   "outputs": [],
   "source": [
    "import json\n",
    "\n",
    "f = open('output.json',encoding= 'utf-8')\n",
    "tweets = [json.loads(line) for line in f]\n",
    "f.close()"
   ]
  },
  {
   "cell_type": "code",
   "execution_count": 8,
   "id": "ce664a27",
   "metadata": {},
   "outputs": [],
   "source": [
    "hashtag_list = []\n",
    "\n",
    "from collections import defaultdict\n",
    "\n",
    "counts = defaultdict(int)   # count values are initialized to 0\n",
    "\n",
    "\n",
    "# splitting the text into words\n",
    "for tweet in tweets:\n",
    "    words = tweet['data']['text'].split()   \n",
    "    # checking the first character of every word\n",
    "    for word in words:\n",
    "#         print(word[0])\n",
    "        if word[0] == '#':\n",
    "        # adding the word to the hashtag_list\n",
    "            counts[word] += 1\n",
    "            hashtag_list.append(word[1:])"
   ]
  },
  {
   "cell_type": "code",
   "execution_count": 9,
   "id": "ee0e5e77",
   "metadata": {},
   "outputs": [
    {
     "data": {
      "text/plain": [
       "[('#Democrat', 2),\n",
       " ('#FollowTheHuskies', 2),\n",
       " ('#Michigan', 4),\n",
       " ('#GoRedStateByState', 4),\n",
       " ('#GoBlue', 4)]"
      ]
     },
     "execution_count": 9,
     "metadata": {},
     "output_type": "execute_result"
    }
   ],
   "source": [
    "import operator\n",
    "sorted_words = sorted(counts.items(), key=operator.itemgetter(1))\n",
    "sorted_words[-5:]"
   ]
  }
 ],
 "metadata": {
  "kernelspec": {
   "display_name": "Python 3",
   "language": "python",
   "name": "python3"
  },
  "language_info": {
   "codemirror_mode": {
    "name": "ipython",
    "version": 3
   },
   "file_extension": ".py",
   "mimetype": "text/x-python",
   "name": "python",
   "nbconvert_exporter": "python",
   "pygments_lexer": "ipython3",
   "version": "3.6.13"
  }
 },
 "nbformat": 4,
 "nbformat_minor": 5
}
