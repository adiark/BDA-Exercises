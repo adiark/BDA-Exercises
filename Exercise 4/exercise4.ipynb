{
 "cells": [
  {
   "cell_type": "code",
   "execution_count": 1,
   "id": "0583a699",
   "metadata": {},
   "outputs": [],
   "source": [
    "import pandas as pd \n",
    "import matplotlib.pyplot as plt\n",
    "import numpy as np\n",
    "from scipy.stats import norm\n",
    "from scipy.stats import zscore"
   ]
  },
  {
   "cell_type": "markdown",
   "id": "d0f910a7",
   "metadata": {},
   "source": [
    "### Question 1 and 2 "
   ]
  },
  {
   "cell_type": "code",
   "execution_count": 2,
   "id": "64dcdf85",
   "metadata": {},
   "outputs": [
    {
     "data": {
      "text/html": [
       "<div>\n",
       "<style scoped>\n",
       "    .dataframe tbody tr th:only-of-type {\n",
       "        vertical-align: middle;\n",
       "    }\n",
       "\n",
       "    .dataframe tbody tr th {\n",
       "        vertical-align: top;\n",
       "    }\n",
       "\n",
       "    .dataframe thead th {\n",
       "        text-align: right;\n",
       "    }\n",
       "</style>\n",
       "<table border=\"1\" class=\"dataframe\">\n",
       "  <thead>\n",
       "    <tr style=\"text-align: right;\">\n",
       "      <th></th>\n",
       "      <th>Date</th>\n",
       "      <th>Open</th>\n",
       "      <th>High</th>\n",
       "      <th>Low</th>\n",
       "      <th>Close</th>\n",
       "      <th>Volume</th>\n",
       "      <th>Adj Close</th>\n",
       "    </tr>\n",
       "  </thead>\n",
       "  <tbody>\n",
       "    <tr>\n",
       "      <th>0</th>\n",
       "      <td>12/30/2016</td>\n",
       "      <td>62.959999</td>\n",
       "      <td>62.990002</td>\n",
       "      <td>62.029999</td>\n",
       "      <td>62.139999</td>\n",
       "      <td>25465900</td>\n",
       "      <td>62.139999</td>\n",
       "    </tr>\n",
       "    <tr>\n",
       "      <th>1</th>\n",
       "      <td>12/29/2016</td>\n",
       "      <td>62.860001</td>\n",
       "      <td>63.200001</td>\n",
       "      <td>62.730000</td>\n",
       "      <td>62.900002</td>\n",
       "      <td>10181600</td>\n",
       "      <td>62.900002</td>\n",
       "    </tr>\n",
       "    <tr>\n",
       "      <th>2</th>\n",
       "      <td>12/28/2016</td>\n",
       "      <td>63.400002</td>\n",
       "      <td>63.400002</td>\n",
       "      <td>62.830002</td>\n",
       "      <td>62.990002</td>\n",
       "      <td>14247400</td>\n",
       "      <td>62.990002</td>\n",
       "    </tr>\n",
       "    <tr>\n",
       "      <th>3</th>\n",
       "      <td>12/27/2016</td>\n",
       "      <td>63.209999</td>\n",
       "      <td>64.070000</td>\n",
       "      <td>63.209999</td>\n",
       "      <td>63.279999</td>\n",
       "      <td>11583900</td>\n",
       "      <td>63.279999</td>\n",
       "    </tr>\n",
       "    <tr>\n",
       "      <th>4</th>\n",
       "      <td>12/23/2016</td>\n",
       "      <td>63.450001</td>\n",
       "      <td>63.540001</td>\n",
       "      <td>62.799999</td>\n",
       "      <td>63.240002</td>\n",
       "      <td>12398000</td>\n",
       "      <td>63.240002</td>\n",
       "    </tr>\n",
       "  </tbody>\n",
       "</table>\n",
       "</div>"
      ],
      "text/plain": [
       "         Date       Open       High        Low      Close    Volume  Adj Close\n",
       "0  12/30/2016  62.959999  62.990002  62.029999  62.139999  25465900  62.139999\n",
       "1  12/29/2016  62.860001  63.200001  62.730000  62.900002  10181600  62.900002\n",
       "2  12/28/2016  63.400002  63.400002  62.830002  62.990002  14247400  62.990002\n",
       "3  12/27/2016  63.209999  64.070000  63.209999  63.279999  11583900  63.279999\n",
       "4  12/23/2016  63.450001  63.540001  62.799999  63.240002  12398000  63.240002"
      ]
     },
     "execution_count": 2,
     "metadata": {},
     "output_type": "execute_result"
    }
   ],
   "source": [
    "#a.\n",
    "data = pd.read_csv(\"msft.csv\")\n",
    "data.head(5)"
   ]
  },
  {
   "cell_type": "code",
   "execution_count": 3,
   "id": "526b41b2",
   "metadata": {},
   "outputs": [
    {
     "data": {
      "text/html": [
       "<div>\n",
       "<style scoped>\n",
       "    .dataframe tbody tr th:only-of-type {\n",
       "        vertical-align: middle;\n",
       "    }\n",
       "\n",
       "    .dataframe tbody tr th {\n",
       "        vertical-align: top;\n",
       "    }\n",
       "\n",
       "    .dataframe thead th {\n",
       "        text-align: right;\n",
       "    }\n",
       "</style>\n",
       "<table border=\"1\" class=\"dataframe\">\n",
       "  <thead>\n",
       "    <tr style=\"text-align: right;\">\n",
       "      <th></th>\n",
       "      <th>Open</th>\n",
       "      <th>High</th>\n",
       "      <th>Low</th>\n",
       "      <th>Close</th>\n",
       "      <th>Volume</th>\n",
       "      <th>Adj Close</th>\n",
       "    </tr>\n",
       "  </thead>\n",
       "  <tbody>\n",
       "    <tr>\n",
       "      <th>count</th>\n",
       "      <td>2518.000000</td>\n",
       "      <td>2518.000000</td>\n",
       "      <td>2518.000000</td>\n",
       "      <td>2518.000000</td>\n",
       "      <td>2.518000e+03</td>\n",
       "      <td>2518.000000</td>\n",
       "    </tr>\n",
       "    <tr>\n",
       "      <th>mean</th>\n",
       "      <td>33.980318</td>\n",
       "      <td>34.312530</td>\n",
       "      <td>33.654591</td>\n",
       "      <td>33.993987</td>\n",
       "      <td>5.296776e+07</td>\n",
       "      <td>30.456126</td>\n",
       "    </tr>\n",
       "    <tr>\n",
       "      <th>std</th>\n",
       "      <td>10.536277</td>\n",
       "      <td>10.589226</td>\n",
       "      <td>10.491077</td>\n",
       "      <td>10.549777</td>\n",
       "      <td>2.908349e+07</td>\n",
       "      <td>11.711547</td>\n",
       "    </tr>\n",
       "    <tr>\n",
       "      <th>min</th>\n",
       "      <td>15.200000</td>\n",
       "      <td>15.620000</td>\n",
       "      <td>14.870000</td>\n",
       "      <td>15.150000</td>\n",
       "      <td>8.370500e+06</td>\n",
       "      <td>12.381153</td>\n",
       "    </tr>\n",
       "    <tr>\n",
       "      <th>25%</th>\n",
       "      <td>26.760000</td>\n",
       "      <td>27.000000</td>\n",
       "      <td>26.480000</td>\n",
       "      <td>26.770000</td>\n",
       "      <td>3.370250e+07</td>\n",
       "      <td>22.349302</td>\n",
       "    </tr>\n",
       "    <tr>\n",
       "      <th>50%</th>\n",
       "      <td>29.969999</td>\n",
       "      <td>30.219999</td>\n",
       "      <td>29.730000</td>\n",
       "      <td>29.980000</td>\n",
       "      <td>4.754195e+07</td>\n",
       "      <td>25.306451</td>\n",
       "    </tr>\n",
       "    <tr>\n",
       "      <th>75%</th>\n",
       "      <td>41.369999</td>\n",
       "      <td>41.682499</td>\n",
       "      <td>41.040001</td>\n",
       "      <td>41.475000</td>\n",
       "      <td>6.389458e+07</td>\n",
       "      <td>39.035395</td>\n",
       "    </tr>\n",
       "    <tr>\n",
       "      <th>max</th>\n",
       "      <td>63.840000</td>\n",
       "      <td>64.099998</td>\n",
       "      <td>63.410000</td>\n",
       "      <td>63.619999</td>\n",
       "      <td>3.193179e+08</td>\n",
       "      <td>63.619999</td>\n",
       "    </tr>\n",
       "  </tbody>\n",
       "</table>\n",
       "</div>"
      ],
      "text/plain": [
       "              Open         High          Low        Close        Volume  \\\n",
       "count  2518.000000  2518.000000  2518.000000  2518.000000  2.518000e+03   \n",
       "mean     33.980318    34.312530    33.654591    33.993987  5.296776e+07   \n",
       "std      10.536277    10.589226    10.491077    10.549777  2.908349e+07   \n",
       "min      15.200000    15.620000    14.870000    15.150000  8.370500e+06   \n",
       "25%      26.760000    27.000000    26.480000    26.770000  3.370250e+07   \n",
       "50%      29.969999    30.219999    29.730000    29.980000  4.754195e+07   \n",
       "75%      41.369999    41.682499    41.040001    41.475000  6.389458e+07   \n",
       "max      63.840000    64.099998    63.410000    63.619999  3.193179e+08   \n",
       "\n",
       "         Adj Close  \n",
       "count  2518.000000  \n",
       "mean     30.456126  \n",
       "std      11.711547  \n",
       "min      12.381153  \n",
       "25%      22.349302  \n",
       "50%      25.306451  \n",
       "75%      39.035395  \n",
       "max      63.619999  "
      ]
     },
     "execution_count": 3,
     "metadata": {},
     "output_type": "execute_result"
    }
   ],
   "source": [
    "#b.\n",
    "data.describe()"
   ]
  },
  {
   "cell_type": "code",
   "execution_count": 4,
   "id": "b4352b03",
   "metadata": {},
   "outputs": [
    {
     "data": {
      "text/plain": [
       "0    62.139999\n",
       "1    62.900002\n",
       "2    62.990002\n",
       "3    63.279999\n",
       "4    63.240002\n",
       "Name: Close, dtype: float64"
      ]
     },
     "execution_count": 4,
     "metadata": {},
     "output_type": "execute_result"
    }
   ],
   "source": [
    "#c.\n",
    "closing = data['Close']\n",
    "closing.head(5)"
   ]
  },
  {
   "cell_type": "code",
   "execution_count": 5,
   "id": "70ea3c2c",
   "metadata": {},
   "outputs": [
    {
     "data": {
      "text/plain": [
       "12/29/2016   -0.760003\n",
       "12/28/2016   -0.090000\n",
       "12/27/2016   -0.289997\n",
       "12/23/2016    0.039997\n",
       "12/22/2016   -0.309997\n",
       "dtype: float64"
      ]
     },
     "execution_count": 5,
     "metadata": {},
     "output_type": "execute_result"
    }
   ],
   "source": [
    "#d.\n",
    "cdate = data['Date'].values\n",
    "cdate = cdate[1:]\n",
    "N = closing.size\n",
    "change = closing[:N-1].values - closing [1:].values\n",
    "changedata = pd.Series(change, index = cdate)\n",
    "changedata.head(5)"
   ]
  },
  {
   "cell_type": "code",
   "execution_count": 6,
   "id": "b2e8aefd",
   "metadata": {},
   "outputs": [
    {
     "data": {
      "image/png": "[encoded data removed]",
      "text/plain": [
       "<Figure size 432x288 with 1 Axes>"
      ]
     },
     "metadata": {
      "needs_background": "light"
     },
     "output_type": "display_data"
    }
   ],
   "source": [
    "#e.\n",
    "plt.figure(1)\n",
    "result = plt.hist(changedata)\n",
    "plt.xlim((min(changedata), max(changedata)))\n",
    "\n",
    "mean = np.mean(changedata)\n",
    "variance = np.var(changedata)\n",
    "sigma = np.sqrt(variance)\n",
    "x = np.linspace(min(changedata), max(changedata), 100)\n",
    "dx = result[1][1] - result[1][0]\n",
    "scale = len(changedata)*dx\n",
    "plt.plot(x, norm.pdf(x, mean, sigma)*scale)\n",
    "plt.show()"
   ]
  },
  {
   "cell_type": "markdown",
   "id": "f85ef95a",
   "metadata": {},
   "source": [
    "The graph looks like a gaussian bell curve. "
   ]
  },
  {
   "cell_type": "code",
   "execution_count": 7,
   "id": "bf233462",
   "metadata": {},
   "outputs": [],
   "source": [
    "data1 = data[1:]"
   ]
  },
  {
   "cell_type": "code",
   "execution_count": 8,
   "id": "a16da2f1",
   "metadata": {},
   "outputs": [
    {
     "data": {
      "text/plain": [
       "10/20/2016    2.410000\n",
       "7/19/2016     2.820000\n",
       "1/28/2016     3.029999\n",
       "10/22/2015    4.840000\n",
       "4/23/2015     4.529999\n",
       "8/22/2013     2.360001\n",
       "10/10/2008    4.000000\n",
       "10/25/2007    3.039999\n",
       "dtype: float64"
      ]
     },
     "execution_count": 8,
     "metadata": {},
     "output_type": "execute_result"
    }
   ],
   "source": [
    "#f.\n",
    "zscores = zscore(changedata)\n",
    "changedata[zscores > 4]"
   ]
  },
  {
   "cell_type": "code",
   "execution_count": 9,
   "id": "d98408ff",
   "metadata": {},
   "outputs": [
    {
     "data": {
      "text/plain": [
       "4/21/2016   -4.000000\n",
       "8/20/2015   -2.590000\n",
       "1/26/2015   -4.349998\n",
       "7/18/2013   -4.039999\n",
       "1/21/2009   -2.269998\n",
       "9/26/2008   -2.390000\n",
       "dtype: float64"
      ]
     },
     "execution_count": 9,
     "metadata": {},
     "output_type": "execute_result"
    }
   ],
   "source": [
    "#g.\n",
    "changedata[zscores < - 4]"
   ]
  },
  {
   "cell_type": "markdown",
   "id": "5abcadaa",
   "metadata": {},
   "source": [
    "### Question 3"
   ]
  },
  {
   "cell_type": "code",
   "execution_count": 10,
   "id": "eb93bed1",
   "metadata": {},
   "outputs": [
    {
     "data": {
      "text/plain": [
       "12/29/2016    (-2.512, -0.674]\n",
       "12/28/2016     (-0.674, 1.164]\n",
       "12/27/2016     (-0.674, 1.164]\n",
       "12/23/2016     (-0.674, 1.164]\n",
       "12/22/2016     (-0.674, 1.164]\n",
       "dtype: category\n",
       "Categories (5, interval[float64]): [(-4.359, -2.512] < (-2.512, -0.674] < (-0.674, 1.164] < (1.164, 3.002] < (3.002, 4.84]]"
      ]
     },
     "execution_count": 10,
     "metadata": {},
     "output_type": "execute_result"
    }
   ],
   "source": [
    "#a.\n",
    "bins = pd.cut(changedata, 5)\n",
    "bins.head(5)"
   ]
  },
  {
   "cell_type": "code",
   "execution_count": 11,
   "id": "9d70b768",
   "metadata": {},
   "outputs": [
    {
     "data": {
      "text/plain": [
       "12/29/2016    (-4.351, -0.33]\n",
       "12/28/2016       (-0.09, 0.1]\n",
       "12/27/2016     (-0.33, -0.09]\n",
       "12/23/2016       (-0.09, 0.1]\n",
       "12/22/2016     (-0.33, -0.09]\n",
       "dtype: category\n",
       "Categories (5, interval[float64]): [(-4.351, -0.33] < (-0.33, -0.09] < (-0.09, 0.1] < (0.1, 0.36] < (0.36, 4.84]]"
      ]
     },
     "execution_count": 11,
     "metadata": {},
     "output_type": "execute_result"
    }
   ],
   "source": [
    "#b. \n",
    "bins = pd.qcut(changedata, [0,0.2,0.4,0.6,0.8,1])\n",
    "bins.head(5)"
   ]
  },
  {
   "cell_type": "markdown",
   "id": "1b9a5e52",
   "metadata": {},
   "source": [
    "<center> Thank You! <center>"
   ]
  }
 ],
 "metadata": {
  "kernelspec": {
   "display_name": "Python 3",
   "language": "python",
   "name": "python3"
  },
  "language_info": {
   "codemirror_mode": {
    "name": "ipython",
    "version": 3
   },
   "file_extension": ".py",
   "mimetype": "text/x-python",
   "name": "python",
   "nbconvert_exporter": "python",
   "pygments_lexer": "ipython3",
   "version": "3.6.13"
  }
 },
 "nbformat": 4,
 "nbformat_minor": 5
}
