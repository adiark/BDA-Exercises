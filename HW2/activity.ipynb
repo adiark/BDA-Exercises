{
 "cells": [
  {
   "cell_type": "code",
   "execution_count": 13,
   "id": "0b8cf71f",
   "metadata": {},
   "outputs": [],
   "source": [
    "import pandas as pd\n",
    "import numpy as np\n",
    "import matplotlib.pyplot as plt \n",
    "from sklearn.model_selection import train_test_split\n",
    "from sklearn.preprocessing import StandardScaler\n",
    "from sklearn.linear_model import LogisticRegression\n",
    "from sklearn.metrics import accuracy_score"
   ]
  },
  {
   "cell_type": "code",
   "execution_count": 2,
   "id": "36d82e70",
   "metadata": {},
   "outputs": [],
   "source": [
    "user1 = pd.read_csv(\"activity/1.csv\")\n",
    "user2 = pd.read_csv(\"activity/2.csv\")"
   ]
  },
  {
   "cell_type": "code",
   "execution_count": 3,
   "id": "25bae01a",
   "metadata": {},
   "outputs": [],
   "source": [
    "x1 = user1.iloc[:,0:3].values\n",
    "y1 = user1.iloc[:,3:].values\n",
    "x2 = user2.iloc[:,0:3].values\n",
    "y2 = user2.iloc[:,3:].values"
   ]
  },
  {
   "cell_type": "code",
   "execution_count": 4,
   "id": "6c07ac87",
   "metadata": {},
   "outputs": [],
   "source": [
    "x1_train, x1_test, y1_train, y1_test = train_test_split(x1,y1, test_size = 0.8, random_state = 1)\n",
    "x2_train, x2_test, y2_train, y2_test = train_test_split(x2,y2, test_size = 0.8, random_state = 1)"
   ]
  },
  {
   "cell_type": "code",
   "execution_count": 5,
   "id": "023c4227",
   "metadata": {},
   "outputs": [],
   "source": [
    "sc = StandardScaler()\n",
    "x1_train = sc.fit_transform(x1_train)\n",
    "x1_test = sc.transform(x1_test)\n",
    "x2_train = sc.fit_transform(x2_train)\n",
    "x2_test = sc.transform(x2_test)"
   ]
  },
  {
   "cell_type": "code",
   "execution_count": 15,
   "id": "1660f006",
   "metadata": {},
   "outputs": [
    {
     "name": "stdout",
     "output_type": "stream",
     "text": [
      "Accuracy :  0.5466632614365428\n"
     ]
    }
   ],
   "source": [
    "# model 1 \n",
    "m1x_train = np.append(x1_train,x2_train, axis = 0)\n",
    "m1y_train = np.append(y1_train, y2_train)\n",
    "classifier1 = LogisticRegression(multi_class= 'multinomial', solver = 'saga', random_state = 1)\n",
    "classifier1.fit(m1x_train,m1y_train)\n",
    "m1x_test = np.append(x1_test,x2_test, axis = 0)\n",
    "m1y_predict = classifier1.predict(m1x_test)\n",
    "m1y_test = np.append(y1_test,y2_test)\n",
    "print(\"Accuracy : \" , accuracy_score(m1y_test,m1y_predict))"
   ]
  },
  {
   "cell_type": "code",
   "execution_count": 20,
   "id": "57fd640c",
   "metadata": {},
   "outputs": [
    {
     "name": "stdout",
     "output_type": "stream",
     "text": [
      "Accuracy :  0.8267303435413871\n",
      "Accuracy :  0.8071687082405345\n"
     ]
    }
   ],
   "source": [
    "# model 2 \n",
    "# user 1\n",
    "classifier_m1 = LogisticRegression(multi_class= 'multinomial', solver = 'saga', random_state = 1)\n",
    "classifier_m1.fit(x1_train,np.ravel(y1_train, order =\"c\"))\n",
    "predict_m1 = classifier_m1.predict(x1_test)\n",
    "print(\"Accuracy : \" , accuracy_score(y1_test,predict_m1))\n",
    "\n",
    "# user 2\n",
    "\n",
    "classifier_m2 = LogisticRegression(multi_class= 'multinomial', solver = 'saga', random_state = 1)\n",
    "classifier_m2.fit(x2_train,np.ravel(y2_train, order = \"c\"))\n",
    "predict_m2 = classifier_m2.predict(x2_test)\n",
    "print(\"Accuracy : \" , accuracy_score(y2_test,predict_m2))"
   ]
  },
  {
   "cell_type": "code",
   "execution_count": 21,
   "id": "1df44457",
   "metadata": {},
   "outputs": [
    {
     "name": "stdout",
     "output_type": "stream",
     "text": [
      "Accuracy for user 1:  0.8267303435413871\n",
      "Accuracy for user 2:  0.016996102449888643\n"
     ]
    }
   ],
   "source": [
    "# model 3\n",
    "classifier_m3 = LogisticRegression(multi_class = 'multinomial', solver = 'saga', random_state = 1)\n",
    "classifier_m3.fit(x1_train, np.ravel(y1_train, order = 'c'))\n",
    "predict_m3_u1 = classifier_m3.predict(x1_test)\n",
    "predict_m3_u2 = classifier_m3.predict(x2_test)\n",
    "print(\"Accuracy for user 1: \" , accuracy_score(y1_test,predict_m3_u1))\n",
    "print(\"Accuracy for user 2: \" , accuracy_score(y2_test,predict_m3_u2))"
   ]
  },
  {
   "cell_type": "code",
   "execution_count": 23,
   "id": "439e962d",
   "metadata": {},
   "outputs": [
    {
     "name": "stdout",
     "output_type": "stream",
     "text": [
      "Accuracy for model 1:  0.5466632614365428\n",
      "Accuracy for model 2 classifier 1:  0.3765333209506783\n",
      "Accuracy for model 2 classifier 2:  0.46243025082615524\n",
      "Accuracy for model 3:  0.3765333209506783\n"
     ]
    }
   ],
   "source": [
    "# Testing on combined data \n",
    "cx_test = np.append(x1_test,x2_test, axis = 0)\n",
    "cy_test = np.append(np.ravel(y1_test,order = 'c'),np.ravel(y2_test,order = 'c'))\n",
    "predictc_m0 = classifier1.predict(cx_test)\n",
    "print(\"Accuracy for model 1: \" , accuracy_score(cy_test,predictc_m0))\n",
    "predictc_m1 = classifier_m1.predict(cx_test)\n",
    "print(\"Accuracy for model 2 classifier 1: \" , accuracy_score(cy_test,predictc_m1))\n",
    "predictc_m2 = classifier_m2.predict(cx_test)\n",
    "print(\"Accuracy for model 2 classifier 2: \" , accuracy_score(cy_test,predictc_m2))\n",
    "predictc_m3 = classifier_m3.predict(cx_test)\n",
    "print(\"Accuracy for model 3: \" , accuracy_score(cy_test,predictc_m3))\n"
   ]
  },
  {
   "cell_type": "markdown",
   "id": "c2157b59",
   "metadata": {},
   "source": [
    "Model 1 has the highest accuracy for combined data of user 1 and user 2"
   ]
  }
 ],
 "metadata": {
  "kernelspec": {
   "display_name": "Python 3",
   "language": "python",
   "name": "python3"
  },
  "language_info": {
   "codemirror_mode": {
    "name": "ipython",
    "version": 3
   },
   "file_extension": ".py",
   "mimetype": "text/x-python",
   "name": "python",
   "nbconvert_exporter": "python",
   "pygments_lexer": "ipython3",
   "version": "3.6.13"
  }
 },
 "nbformat": 4,
 "nbformat_minor": 5
}
