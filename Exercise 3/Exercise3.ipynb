{
 "cells": [
  {
   "cell_type": "markdown",
   "metadata": {},
   "source": [
    "### MySQL"
   ]
  },
  {
   "cell_type": "code",
   "execution_count": 2,
   "metadata": {},
   "outputs": [
    {
     "data": {
      "text/html": [
       "<div>\n",
       "<style scoped>\n",
       "    .dataframe tbody tr th:only-of-type {\n",
       "        vertical-align: middle;\n",
       "    }\n",
       "\n",
       "    .dataframe tbody tr th {\n",
       "        vertical-align: top;\n",
       "    }\n",
       "\n",
       "    .dataframe thead th {\n",
       "        text-align: right;\n",
       "    }\n",
       "</style>\n",
       "<table border=\"1\" class=\"dataframe\">\n",
       "  <thead>\n",
       "    <tr style=\"text-align: right;\">\n",
       "      <th></th>\n",
       "      <th>RevisionId</th>\n",
       "      <th>ArticleName</th>\n",
       "      <th>Timestamp</th>\n",
       "      <th>Editor</th>\n",
       "    </tr>\n",
       "  </thead>\n",
       "  <tbody>\n",
       "    <tr>\n",
       "      <th>0</th>\n",
       "      <td>9019643</td>\n",
       "      <td>Anarchism</td>\n",
       "      <td>2005-01-01</td>\n",
       "      <td>ip:24.136.172.37</td>\n",
       "    </tr>\n",
       "    <tr>\n",
       "      <th>1</th>\n",
       "      <td>9062018</td>\n",
       "      <td>Anarchism</td>\n",
       "      <td>2005-01-03</td>\n",
       "      <td>ip:137.53.22.23</td>\n",
       "    </tr>\n",
       "    <tr>\n",
       "      <th>2</th>\n",
       "      <td>9085524</td>\n",
       "      <td>Anarchism</td>\n",
       "      <td>2005-01-03</td>\n",
       "      <td>ip:24.42.90.254</td>\n",
       "    </tr>\n",
       "    <tr>\n",
       "      <th>3</th>\n",
       "      <td>9140836</td>\n",
       "      <td>Anarchism</td>\n",
       "      <td>2005-01-06</td>\n",
       "      <td>ip:69.61.184.201</td>\n",
       "    </tr>\n",
       "    <tr>\n",
       "      <th>4</th>\n",
       "      <td>9160986</td>\n",
       "      <td>A</td>\n",
       "      <td>2005-01-06</td>\n",
       "      <td>Fvw</td>\n",
       "    </tr>\n",
       "  </tbody>\n",
       "</table>\n",
       "</div>"
      ],
      "text/plain": [
       "  RevisionId ArticleName   Timestamp            Editor\n",
       "0    9019643   Anarchism  2005-01-01  ip:24.136.172.37\n",
       "1    9062018   Anarchism  2005-01-03   ip:137.53.22.23\n",
       "2    9085524   Anarchism  2005-01-03   ip:24.42.90.254\n",
       "3    9140836   Anarchism  2005-01-06  ip:69.61.184.201\n",
       "4    9160986           A  2005-01-06               Fvw"
      ]
     },
     "execution_count": 2,
     "metadata": {},
     "output_type": "execute_result"
    }
   ],
   "source": [
    "# Importing libraries and reading wiki_edit.txt file  \n",
    "import pandas as p\n",
    "import mysql.connector\n",
    "from mysql.connector import errorcode\n",
    "\n",
    "with open(\"wiki_edit.txt\", \"r\", encoding= \"UTF-8\") as f:\n",
    "    data = []\n",
    "    for line in f:\n",
    "        data.append(line.strip().split(' '))\n",
    "\n",
    "data = p.DataFrame(data , columns = ['RevisionId', 'ArticleName', 'Timestamp', 'Editor'])\n",
    "data[:5]"
   ]
  },
  {
   "cell_type": "code",
   "execution_count": 3,
   "metadata": {},
   "outputs": [],
   "source": [
    "# Credentials\n",
    "uname = \"jainadi5\"\n",
    "pwd = \"A81237526\" # Replaced by X after executing code \n",
    "hname = \"mysql-user-cse.egr.msu.edu\""
   ]
  },
  {
   "cell_type": "code",
   "execution_count": 4,
   "metadata": {},
   "outputs": [],
   "source": [
    "\n",
    "try:\n",
    "    cnx = mysql.connector.connect(user=uname, password=pwd, host=hname, database=uname)\n",
    "    cursor = cnx.cursor()\n",
    "    query = \"DROP TABLE IF EXISTS Wiki_Edit\"\n",
    "    cursor.execute(query)\n",
    "\n",
    "    query = \"\"\"CREATE TABLE IF NOT EXISTS Wiki_Edit (RevId int PRIMARY KEY,\n",
    "                                ArticleName varchar(200),EditDate date,User varchar(50))\n",
    "            \"\"\"\n",
    "    cursor.execute(query)\n",
    "    cursor.close()\n",
    "    cnx.commit()\n",
    "    cnx.close()\n",
    "    \n",
    "except:\n",
    "    print(mysql.connector.Error)\n",
    "\n",
    "# Varchar(100) changed to varchar (200) for ArticleName due to presence of large size of article name in the database "
   ]
  },
  {
   "cell_type": "code",
   "execution_count": 5,
   "metadata": {},
   "outputs": [],
   "source": [
    "# Checking unicodes for alphanumeric range and replacing others with null\n",
    "def byUnicode(char):\n",
    "    if ord(char) < 48 or ord(char) > 127: return ''\n",
    "    else: return char"
   ]
  },
  {
   "cell_type": "code",
   "execution_count": 6,
   "metadata": {},
   "outputs": [],
   "source": [
    "# Inserting the data in the database row by row\n",
    "try:\n",
    "    cnx = mysql.connector.connect(user=uname, password=pwd, host=hname, database=uname)\n",
    "    cursor = cnx.cursor()\n",
    "    \n",
    "    for index, row in data.iterrows():\n",
    "        rid = row['RevisionId']\n",
    "        Article = ''.join(list(filter(byUnicode, row['ArticleName'])))\n",
    "        EditDate = row['Timestamp']\n",
    "        User = ''.join(list(filter(byUnicode, row['Editor'])))\n",
    "        query = \"INSERT INTO Wiki_Edit VALUES ('\" + rid + \"','\" + Article + \"','\" + EditDate + \"','\"+ User + \"')\"\n",
    "        cursor.execute(query)\n",
    "    cnx.commit()\n",
    "    cursor.close()\n",
    "    cnx.close()\n",
    "\n",
    "except:\n",
    "    print(mysql.connector.Error)   "
   ]
  },
  {
   "cell_type": "code",
   "execution_count": 68,
   "metadata": {},
   "outputs": [
    {
     "name": "stdout",
     "output_type": "stream",
     "text": [
      "8999630 2004_Indian_Ocean_earthquake 186\n"
     ]
    }
   ],
   "source": [
    "# Selelcting the most revied article from the dataset\n",
    "try:\n",
    "    cnx = mysql.connector.connect(user=uname, password=pwd, host=hname, database=uname)\n",
    "    cursor = cnx.cursor()\n",
    "    query = \"SELECT RevId, ArticleName, count(*) FROM Wiki_Edit GROUP BY ArticleName ORDER BY count(*) DESC LIMIT 1\"\n",
    "    cursor.execute(query)\n",
    "    \n",
    "    for (rid, article, count) in cursor:\n",
    "        print (rid,article, count)   \n",
    "\n",
    "    cursor.close()\n",
    "    cnx.close()\n",
    "    \n",
    "except:\n",
    "    print(mysql.connector.Error) "
   ]
  },
  {
   "cell_type": "markdown",
   "metadata": {},
   "source": [
    "### MongoDb"
   ]
  },
  {
   "cell_type": "code",
   "execution_count": 1,
   "metadata": {},
   "outputs": [],
   "source": [
    "# Importing libraries and creating client\n",
    "from pymongo import MongoClient\n",
    "client = MongoClient('localhost', 27017)"
   ]
  },
  {
   "cell_type": "code",
   "execution_count": 2,
   "metadata": {},
   "outputs": [],
   "source": [
    "# Creating a database/ collection by name wiki\n",
    "db = client['wiki']"
   ]
  },
  {
   "cell_type": "code",
   "execution_count": 3,
   "metadata": {},
   "outputs": [
    {
     "data": {
      "text/plain": [
       "0"
      ]
     },
     "execution_count": 3,
     "metadata": {},
     "output_type": "execute_result"
    }
   ],
   "source": [
    "# Checking document counts\n",
    "collection = db.wiki\n",
    "collection.estimated_document_count()"
   ]
  },
  {
   "cell_type": "code",
   "execution_count": 4,
   "metadata": {},
   "outputs": [],
   "source": [
    "# Adding the file into the document\n",
    "with open(\"wiki_edit.txt\", \"r\", encoding= \"UTF-8\") as f:\n",
    "    for line in f:\n",
    "        columns = line.strip().split(' ')\n",
    "        record = { 'RevisionID': columns[0],'ArticleName': columns[1],'EditDate': columns[2], 'UserName': columns[3]}\n",
    "        collection.insert_one(record)"
   ]
  },
  {
   "cell_type": "code",
   "execution_count": 5,
   "metadata": {},
   "outputs": [
    {
     "name": "stdout",
     "output_type": "stream",
     "text": [
      "2005-01-01 ip:24.136.172.37\n",
      "2005-01-03 ip:137.53.22.23\n",
      "2005-01-03 ip:24.42.90.254\n",
      "2005-01-06 ip:69.61.184.201\n"
     ]
    }
   ],
   "source": [
    "# Finding details from articlename using .find\n",
    "for line in collection.find({\"ArticleName\": \"Anarchism\"}):\n",
    "    print(line[\"EditDate\"], line[\"UserName\"])"
   ]
  },
  {
   "cell_type": "code",
   "execution_count": 7,
   "metadata": {},
   "outputs": [
    {
     "data": {
      "text/plain": [
       "28209"
      ]
     },
     "execution_count": 7,
     "metadata": {},
     "output_type": "execute_result"
    }
   ],
   "source": [
    "collection.estimated_document_count()"
   ]
  },
  {
   "cell_type": "code",
   "execution_count": 6,
   "metadata": {},
   "outputs": [],
   "source": [
    "client.close()"
   ]
  }
 ],
 "metadata": {
  "anaconda-cloud": {},
  "kernelspec": {
   "display_name": "Python 3",
   "language": "python",
   "name": "python3"
  },
  "language_info": {
   "codemirror_mode": {
    "name": "ipython",
    "version": 3
   },
   "file_extension": ".py",
   "mimetype": "text/x-python",
   "name": "python",
   "nbconvert_exporter": "python",
   "pygments_lexer": "ipython3",
   "version": "3.6.13"
  },
  "vscode": {
   "interpreter": {
    "hash": "9ec40b02c889f9b6c664760b6a7c768a81788108b3c1177f9e78a55dbadb0c63"
   }
  }
 },
 "nbformat": 4,
 "nbformat_minor": 1
}
