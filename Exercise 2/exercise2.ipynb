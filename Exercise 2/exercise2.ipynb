{
 "cells": [
  {
   "cell_type": "code",
   "execution_count": 1,
   "metadata": {},
   "outputs": [],
   "source": [
    "import tweepy\n",
    "from tweepy import OAuthHandler\n",
    "import configparser\n",
    "from tweepy import API"
   ]
  },
  {
   "cell_type": "code",
   "execution_count": 2,
   "metadata": {},
   "outputs": [],
   "source": [
    "# keys\n",
    "config = configparser.ConfigParser()\n",
    "config.read('config.ini')\n",
    "bearer_token = config['twitter']['bearer_token']"
   ]
  },
  {
   "cell_type": "code",
   "execution_count": 3,
   "metadata": {},
   "outputs": [],
   "source": [
    "client = tweepy.Client(bearer_token= bearer_token, wait_on_rate_limit=True)"
   ]
  },
  {
   "cell_type": "code",
   "execution_count": 4,
   "metadata": {},
   "outputs": [
    {
     "name": "stdout",
     "output_type": "stream",
     "text": [
      "Here are the recent tweets by CDC:\n",
      "\n",
      "RT @988Lifeline: If someone you know tells you they’ve been thinking about suicide, don't forget to take the last step and #BeThe1To follow… \n",
      "\n",
      "RT @CDCDiabetes: When Percy decided to take steps to prevent #t2diabetes, he quickly found joy in activities like cycling, racquetball, and… \n",
      "\n",
      "HCPs should consider EV-D68 as a cause of severe respiratory illness in children this fall. Children with symptoms of AFM should be hospitalized promptly and referred to specialty care. Learn more in @CDCMMWR: https://t.co/QgN6vxmX7L \n",
      "\n",
      "A review of surveillance data showed increases in the percent of positive tests for enterovirus D68 (EV-D68) in children in 2022. Historically, a rise in EV-D68 coincided with increased reports of acute flaccid myelitis (AFM). https://t.co/RwFsVjECOS \n",
      "\n",
      "Use CDC's booster tool to find out what #COVID19 booster is recommended for you, and when you’re eligible to get it. Learn more: https://t.co/kFbWPuGhZz https://t.co/5LrpeW2ahD \n",
      "\n",
      "Educate yourself and your loved ones about sepsis, so they can know the risks of sepsis, spot the signs and symptoms, and ACT FAST. Order and share CDC's FREE and NEWLY UPDATED Patient Brochure today! #SAM2022 https://t.co/YOhiigk0o4. https://t.co/RUW3KkTbYt \n",
      "\n",
      "This Hereditary Breast and Ovarian Cancer Week, learn more about the cancers that run in your family – and the steps you can take to lower your cancer risk. \n",
      "https://t.co/AtEBSzdv85 \n",
      "#HBOCWeek https://t.co/114hURlPP7 \n",
      "\n",
      "From #COVID19 to #monkeypox, electronic case reporting’s (eCR) scalable infrastructure allows for rapid response as new outbreaks arise. Learn more about eCR’s timely response to monkeypox virus: https://t.co/SEzyFqXSBA https://t.co/7r7uril3rE \n",
      "\n",
      "After an emergency or disaster, clean water may not be available for weeks. If bottled water isn’t available, boil, disinfect, or filter tap water before drinking it. https://t.co/wiffiy1LR0 #HurricaneIan https://t.co/3PywYSMdbb \n",
      "\n",
      "Want to learn more about monkeypox? Join Dr. Carnes &amp; Dr. Schrodt on Sept. 28 from 2-3 p.m. ET for a CDC EPIC webinar. Learn about the basics of monkeypox, trends for the current outbreak in the U.S., what CDC is doing to reduce stigma, &amp; how you can help. https://t.co/8gfuJxulAS https://t.co/7E8mDvWNnJ \n",
      "\n",
      "RT @USAGov: Thank you for joining today’s #GetToKnowYourGov chat! 💬 \n",
      "\n",
      "A special shout out to the gov agencies who participated to keep ever… \n",
      "\n",
      "RT @USAGov: Continue to learn from the #GetToKnowYourGov experts after today's chat. \n",
      "\n",
      "Follow @theNCI, @CDCEnvironment, @FDA_ORA, @FDA_Drug… \n",
      "\n",
      "A5: In addition to Twitter, we are also on Facebook, LinkedIn, Instagram, Pinterest, and Snapchat. CDC has more than 100 other social media profiles focusing on a variety of health topics. Find all of our social media profiles here: https://t.co/vTjpJgDm7J. #GetToKnowYourGov https://t.co/oqt8dGfVXY \n",
      "\n",
      "RT @samhsagov: It's common to feel overwhelmed, anxious, isolated or other distress when severe weather is forecast. You're not alone. \n",
      "\n",
      "Th… \n",
      "\n",
      "RT @CDCEnvironment: A4: #DYK? CDC has apps that can help you find answers to your health questions. The My Healthy Day mobile app provides… \n",
      "\n",
      "RT @CDCEnvironment: A4: CDC's Your Health – Your Environment Blog shares information about various environmental health topics. Recent post… \n",
      "\n",
      "RT @CDCEnvironment: A3: Some of the best ways to protect your health are to plan ahead, stay informed, and take action. Learn more about ho… \n",
      "\n",
      "A2: CDC-INFO agents are available to answer health questions in English or Spanish from 8AM-8PM ET, Mon-Fri (closed holidays). Extended hours are available for COVID-19 &amp; monkeypox questions, 8AM-midnight, 7 days a week. Please call 1-800 CDC-INFO or visit https://t.co/pUF2JIBq19 https://t.co/AYQBiWuM2B \n",
      "\n",
      "A1: CDC conducts critical science and provides health information that protects our nation against expensive and dangerous health threats, and responds when these arise. Learn more about CDC’s mission: https://t.co/kA0AqQrRSS. #GetToKnowYourGov https://t.co/g6qh5fr1UF \n",
      "\n",
      "RT @USAGov: We’re almost ready to kick off the #GetToKnowYourGov chat!\n",
      "\n",
      "Follow the hashtag and experts like @Medlineplus, @CDCEnvironment a… \n",
      "\n",
      "New Data: Obesity is increasing, and it affects some people and places more than others. New maps show where #obesity is most prevalent. https://t.co/tW0tza2uqW #WHConfHungerHealth https://t.co/PWXJcJtoLm \n",
      "\n",
      "According to a new CDC study, 93% of pregnant women hospitalized for #COVID19 were not vaccinated. Evidence continues to build showing that COVID-19 vaccination during pregnancy is safe and effective. Learn more: https://t.co/pBVlI6STf8. https://t.co/6EGPPZHBnq \n",
      "\n",
      "Today is National Gay Men’s HIV/AIDS Awareness Day, a day to stop HIV stigma and to #StartTalkingHIV: talk about testing, condoms, PrEP, and medicines that treat HIV. https://t.co/c8yV6T6m8s #NGMHAAD #StopHIVTogether https://t.co/mYYSdAWqoc \n",
      "\n",
      "RT @USAGov: #GetToKnowYourGov with @USAGov!\n",
      "\n",
      "What? A Twitter Q&amp;A that can help you find official government information about health.\n",
      "When?… \n",
      "\n",
      "If you are in the path of #HurricaneIan, be #prepared to keep food safe during a power outage:\n",
      "• Put thermometers in your fridge &amp; freezer.\n",
      "• Have a cooler or ice chest.\n",
      "• Know where you can buy dry &amp; block ice.\n",
      "More: https://t.co/LT9WglYDqa https://t.co/CtPdx5uqg2 \n",
      "\n",
      "RT @CDCEnvironment: Depending on the path of a #storm, your home may not be the safest place to be. Be prepared to go if asked to evacuate… \n",
      "\n",
      "Monkeypox can cause a rash on various parts of the body that looks like sores or blisters and can be very painful or itchy. Learn more about #monkeypox symptoms: https://t.co/XoR0c0fXYg. https://t.co/yXgxcbQeaL \n",
      "\n",
      "RT @CDCEnvironment: Do you have a disaster plan for your family (including pets) in the event of a #hurricane or severe storm? This year be… \n",
      "\n",
      "RT @CDCEnvironment: Learn about your community's emergency plans, warning systems, and locations of emergency shelters before a #hurricane… \n",
      "\n",
      "Parents: As your children get back into their school routines, make sure they're caught up on routine vaccines by talking to their doctor today. https://t.co/pgAJTiYauO #iVax2Protect #VaccinesWork https://t.co/tN3L6ouDds \n",
      "\n"
     ]
    }
   ],
   "source": [
    "name = 'CDCgov'\n",
    "user = client.get_user(username= name).data\n",
    "user_id = user.id\n",
    "user_name = user.name\n",
    "tweets = client.get_users_tweets(id= user_id, max_results = 30, tweet_fields = ['text'])\n",
    "\n",
    "print(f\"Here are the recent tweets by {user_name}:\\n\")\n",
    "\n",
    "for tweet in tweets.data:\n",
    "    print( tweet,\"\\n\")"
   ]
  },
  {
   "cell_type": "code",
   "execution_count": 5,
   "metadata": {},
   "outputs": [],
   "source": [
    "file_name = \"cdcgov.txt\"\n",
    "\n",
    "with open(file_name, 'w', encoding='utf-8') as f:\n",
    "\n",
    "    for count, tweet in enumerate(tweets.data):\n",
    "        f.write(\n",
    "            f'{count+1}. {tweet}\\n')\n",
    "\n",
    "f.close()"
   ]
  },
  {
   "cell_type": "code",
   "execution_count": 6,
   "metadata": {},
   "outputs": [],
   "source": [
    "import time\n",
    "\n",
    "# Create a StreamListener class \n",
    "class MyStreamingClient(tweepy.StreamingClient):\n",
    "\n",
    "    def __init__(self, bearer_token, time_limit = 60):\n",
    "        self.start_time = time.time()\n",
    "        self.limit = time_limit\n",
    "        self.outFile = open('politics.json', 'a', encoding = \"utf-8\")\n",
    "        super(MyStreamingClient, self).__init__(bearer_token)\n",
    "    \n",
    "    def on_data(self, data):\n",
    "        #if (time.time() - self.start_time) < self.limit:\n",
    "        self.outFile.write(data.decode('utf-8'))\n",
    "        self.outFile.write('\\n')\n",
    "        #else:\n",
    "        if (time.time() - self.start_time) > self.limit:\n",
    "            self.outFile.close()\n",
    "            self.disconnect()\n",
    "            \n",
    "    def on_error(self, status):\n",
    "        print(status)\n",
    "          "
   ]
  },
  {
   "cell_type": "code",
   "execution_count": 7,
   "metadata": {},
   "outputs": [
    {
     "name": "stderr",
     "output_type": "stream",
     "text": [
      "Stream connection closed by Twitter\n"
     ]
    }
   ],
   "source": [
    "streaming_client = MyStreamingClient(bearer_token)\n",
    "streaming_client.add_rules(tweepy.StreamRule(\"politics\"))\n",
    "streaming_client.filter()\n"
   ]
  }
 ],
 "metadata": {
  "kernelspec": {
   "display_name": "Python 3",
   "language": "python",
   "name": "python3"
  },
  "language_info": {
   "codemirror_mode": {
    "name": "ipython",
    "version": 3
   },
   "file_extension": ".py",
   "mimetype": "text/x-python",
   "name": "python",
   "nbconvert_exporter": "python",
   "pygments_lexer": "ipython3",
   "version": "3.6.13"
  },
  "vscode": {
   "interpreter": {
    "hash": "9ec40b02c889f9b6c664760b6a7c768a81788108b3c1177f9e78a55dbadb0c63"
   }
  }
 },
 "nbformat": 4,
 "nbformat_minor": 2
}
