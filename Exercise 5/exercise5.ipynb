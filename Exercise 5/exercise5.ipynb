{
 "cells": [
  {
   "cell_type": "code",
   "execution_count": 1,
   "id": "adf2d1c3",
   "metadata": {},
   "outputs": [],
   "source": [
    "import pandas as pd\n",
    "import matplotlib.pyplot as plt\n",
    "from sklearn.model_selection import train_test_split\n",
    "from sklearn import tree\n",
    "from sklearn.metrics import accuracy_score"
   ]
  },
  {
   "cell_type": "code",
   "execution_count": 2,
   "id": "98f1fee8",
   "metadata": {},
   "outputs": [
    {
     "data": {
      "text/html": [
       "<div>\n",
       "<style scoped>\n",
       "    .dataframe tbody tr th:only-of-type {\n",
       "        vertical-align: middle;\n",
       "    }\n",
       "\n",
       "    .dataframe tbody tr th {\n",
       "        vertical-align: top;\n",
       "    }\n",
       "\n",
       "    .dataframe thead th {\n",
       "        text-align: right;\n",
       "    }\n",
       "</style>\n",
       "<table border=\"1\" class=\"dataframe\">\n",
       "  <thead>\n",
       "    <tr style=\"text-align: right;\">\n",
       "      <th></th>\n",
       "      <th>compactness</th>\n",
       "      <th>circularity</th>\n",
       "      <th>distance_circularity</th>\n",
       "      <th>radius_ratio</th>\n",
       "      <th>pr_axis_aspect_ratio</th>\n",
       "      <th>max_length_aspect_ratio</th>\n",
       "      <th>scatter_ratio</th>\n",
       "      <th>elongatedness</th>\n",
       "      <th>pr_axisrectangular</th>\n",
       "      <th>lengthrectangular</th>\n",
       "      <th>majorvariance</th>\n",
       "      <th>minorvariance</th>\n",
       "      <th>gyrationradius</th>\n",
       "      <th>majorskewness</th>\n",
       "      <th>minorskewness</th>\n",
       "      <th>minorkurtosis</th>\n",
       "      <th>majorkurtosis</th>\n",
       "      <th>hollows_ratio</th>\n",
       "      <th>class</th>\n",
       "    </tr>\n",
       "  </thead>\n",
       "  <tbody>\n",
       "    <tr>\n",
       "      <th>0</th>\n",
       "      <td>95</td>\n",
       "      <td>43</td>\n",
       "      <td>96</td>\n",
       "      <td>202</td>\n",
       "      <td>65</td>\n",
       "      <td>10</td>\n",
       "      <td>189</td>\n",
       "      <td>35</td>\n",
       "      <td>22</td>\n",
       "      <td>143</td>\n",
       "      <td>217</td>\n",
       "      <td>534</td>\n",
       "      <td>166</td>\n",
       "      <td>71</td>\n",
       "      <td>6</td>\n",
       "      <td>27</td>\n",
       "      <td>190</td>\n",
       "      <td>197</td>\n",
       "      <td>opel</td>\n",
       "    </tr>\n",
       "    <tr>\n",
       "      <th>1</th>\n",
       "      <td>96</td>\n",
       "      <td>52</td>\n",
       "      <td>104</td>\n",
       "      <td>222</td>\n",
       "      <td>67</td>\n",
       "      <td>9</td>\n",
       "      <td>198</td>\n",
       "      <td>33</td>\n",
       "      <td>23</td>\n",
       "      <td>163</td>\n",
       "      <td>217</td>\n",
       "      <td>589</td>\n",
       "      <td>226</td>\n",
       "      <td>67</td>\n",
       "      <td>12</td>\n",
       "      <td>20</td>\n",
       "      <td>192</td>\n",
       "      <td>201</td>\n",
       "      <td>opel</td>\n",
       "    </tr>\n",
       "    <tr>\n",
       "      <th>2</th>\n",
       "      <td>107</td>\n",
       "      <td>52</td>\n",
       "      <td>101</td>\n",
       "      <td>218</td>\n",
       "      <td>64</td>\n",
       "      <td>11</td>\n",
       "      <td>202</td>\n",
       "      <td>33</td>\n",
       "      <td>23</td>\n",
       "      <td>164</td>\n",
       "      <td>219</td>\n",
       "      <td>610</td>\n",
       "      <td>192</td>\n",
       "      <td>65</td>\n",
       "      <td>17</td>\n",
       "      <td>2</td>\n",
       "      <td>197</td>\n",
       "      <td>206</td>\n",
       "      <td>opel</td>\n",
       "    </tr>\n",
       "    <tr>\n",
       "      <th>3</th>\n",
       "      <td>97</td>\n",
       "      <td>37</td>\n",
       "      <td>78</td>\n",
       "      <td>181</td>\n",
       "      <td>62</td>\n",
       "      <td>8</td>\n",
       "      <td>161</td>\n",
       "      <td>41</td>\n",
       "      <td>20</td>\n",
       "      <td>131</td>\n",
       "      <td>182</td>\n",
       "      <td>389</td>\n",
       "      <td>117</td>\n",
       "      <td>62</td>\n",
       "      <td>2</td>\n",
       "      <td>28</td>\n",
       "      <td>203</td>\n",
       "      <td>211</td>\n",
       "      <td>opel</td>\n",
       "    </tr>\n",
       "    <tr>\n",
       "      <th>4</th>\n",
       "      <td>96</td>\n",
       "      <td>54</td>\n",
       "      <td>104</td>\n",
       "      <td>175</td>\n",
       "      <td>58</td>\n",
       "      <td>10</td>\n",
       "      <td>215</td>\n",
       "      <td>31</td>\n",
       "      <td>24</td>\n",
       "      <td>175</td>\n",
       "      <td>221</td>\n",
       "      <td>682</td>\n",
       "      <td>222</td>\n",
       "      <td>75</td>\n",
       "      <td>13</td>\n",
       "      <td>23</td>\n",
       "      <td>186</td>\n",
       "      <td>194</td>\n",
       "      <td>opel</td>\n",
       "    </tr>\n",
       "  </tbody>\n",
       "</table>\n",
       "</div>"
      ],
      "text/plain": [
       "   compactness  circularity  distance_circularity  radius_ratio  \\\n",
       "0           95           43                    96           202   \n",
       "1           96           52                   104           222   \n",
       "2          107           52                   101           218   \n",
       "3           97           37                    78           181   \n",
       "4           96           54                   104           175   \n",
       "\n",
       "   pr_axis_aspect_ratio  max_length_aspect_ratio  scatter_ratio  \\\n",
       "0                    65                       10            189   \n",
       "1                    67                        9            198   \n",
       "2                    64                       11            202   \n",
       "3                    62                        8            161   \n",
       "4                    58                       10            215   \n",
       "\n",
       "   elongatedness  pr_axisrectangular  lengthrectangular  majorvariance  \\\n",
       "0             35                  22                143            217   \n",
       "1             33                  23                163            217   \n",
       "2             33                  23                164            219   \n",
       "3             41                  20                131            182   \n",
       "4             31                  24                175            221   \n",
       "\n",
       "   minorvariance  gyrationradius  majorskewness  minorskewness  minorkurtosis  \\\n",
       "0            534             166             71              6             27   \n",
       "1            589             226             67             12             20   \n",
       "2            610             192             65             17              2   \n",
       "3            389             117             62              2             28   \n",
       "4            682             222             75             13             23   \n",
       "\n",
       "   majorkurtosis  hollows_ratio class  \n",
       "0            190            197  opel  \n",
       "1            192            201  opel  \n",
       "2            197            206  opel  \n",
       "3            203            211  opel  \n",
       "4            186            194  opel  "
      ]
     },
     "execution_count": 2,
     "metadata": {},
     "output_type": "execute_result"
    }
   ],
   "source": [
    "data = pd.read_csv(\"vehicle.csv\")\n",
    "data.head(5)"
   ]
  },
  {
   "cell_type": "code",
   "execution_count": 3,
   "id": "c1a56a9d",
   "metadata": {},
   "outputs": [
    {
     "data": {
      "text/html": [
       "<div>\n",
       "<style scoped>\n",
       "    .dataframe tbody tr th:only-of-type {\n",
       "        vertical-align: middle;\n",
       "    }\n",
       "\n",
       "    .dataframe tbody tr th {\n",
       "        vertical-align: top;\n",
       "    }\n",
       "\n",
       "    .dataframe thead th {\n",
       "        text-align: right;\n",
       "    }\n",
       "</style>\n",
       "<table border=\"1\" class=\"dataframe\">\n",
       "  <thead>\n",
       "    <tr style=\"text-align: right;\">\n",
       "      <th></th>\n",
       "      <th>compactness</th>\n",
       "      <th>circularity</th>\n",
       "      <th>distance_circularity</th>\n",
       "      <th>radius_ratio</th>\n",
       "    </tr>\n",
       "  </thead>\n",
       "  <tbody>\n",
       "    <tr>\n",
       "      <th>compactness</th>\n",
       "      <td>1.000000</td>\n",
       "      <td>0.692869</td>\n",
       "      <td>0.792444</td>\n",
       "      <td>0.691659</td>\n",
       "    </tr>\n",
       "    <tr>\n",
       "      <th>circularity</th>\n",
       "      <td>0.692869</td>\n",
       "      <td>1.000000</td>\n",
       "      <td>0.798492</td>\n",
       "      <td>0.622778</td>\n",
       "    </tr>\n",
       "    <tr>\n",
       "      <th>distance_circularity</th>\n",
       "      <td>0.792444</td>\n",
       "      <td>0.798492</td>\n",
       "      <td>1.000000</td>\n",
       "      <td>0.771644</td>\n",
       "    </tr>\n",
       "    <tr>\n",
       "      <th>radius_ratio</th>\n",
       "      <td>0.691659</td>\n",
       "      <td>0.622778</td>\n",
       "      <td>0.771644</td>\n",
       "      <td>1.000000</td>\n",
       "    </tr>\n",
       "  </tbody>\n",
       "</table>\n",
       "</div>"
      ],
      "text/plain": [
       "                      compactness  circularity  distance_circularity  \\\n",
       "compactness              1.000000     0.692869              0.792444   \n",
       "circularity              0.692869     1.000000              0.798492   \n",
       "distance_circularity     0.792444     0.798492              1.000000   \n",
       "radius_ratio             0.691659     0.622778              0.771644   \n",
       "\n",
       "                      radius_ratio  \n",
       "compactness               0.691659  \n",
       "circularity               0.622778  \n",
       "distance_circularity      0.771644  \n",
       "radius_ratio              1.000000  "
      ]
     },
     "execution_count": 3,
     "metadata": {},
     "output_type": "execute_result"
    }
   ],
   "source": [
    "data.iloc[:,0:4].corr()"
   ]
  },
  {
   "cell_type": "code",
   "execution_count": 4,
   "id": "33c7ec90",
   "metadata": {},
   "outputs": [
    {
     "data": {
      "text/plain": [
       "(array([ 1.,  1.,  6., 17., 32., 37., 45., 76., 94., 81., 70., 62., 30.,\n",
       "        60., 43., 40., 45., 36., 19., 28., 11.,  5.,  4.,  2.,  1.]),\n",
       " array([ 73.  ,  74.84,  76.68,  78.52,  80.36,  82.2 ,  84.04,  85.88,\n",
       "         87.72,  89.56,  91.4 ,  93.24,  95.08,  96.92,  98.76, 100.6 ,\n",
       "        102.44, 104.28, 106.12, 107.96, 109.8 , 111.64, 113.48, 115.32,\n",
       "        117.16, 119.  ]),\n",
       " <BarContainer object of 25 artists>)"
      ]
     },
     "execution_count": 4,
     "metadata": {},
     "output_type": "execute_result"
    },
    {
     "data": {
      "image/png": "[encoded data removed]",
      "text/plain": [
       "<Figure size 432x288 with 1 Axes>"
      ]
     },
     "metadata": {
      "needs_background": "light"
     },
     "output_type": "display_data"
    }
   ],
   "source": [
    "plt.hist(data.iloc[:,0], bins = 25)"
   ]
  },
  {
   "cell_type": "code",
   "execution_count": 5,
   "id": "4bfb7c8b",
   "metadata": {},
   "outputs": [
    {
     "data": {
      "text/plain": [
       "{'whiskers': [<matplotlib.lines.Line2D at 0x1be8bb75ba8>,\n",
       "  <matplotlib.lines.Line2D at 0x1be8bb75e48>,\n",
       "  <matplotlib.lines.Line2D at 0x1be8bb98048>,\n",
       "  <matplotlib.lines.Line2D at 0x1be8bb98320>,\n",
       "  <matplotlib.lines.Line2D at 0x1be8bba5470>,\n",
       "  <matplotlib.lines.Line2D at 0x1be8bba5748>,\n",
       "  <matplotlib.lines.Line2D at 0x1be8bbb4898>,\n",
       "  <matplotlib.lines.Line2D at 0x1be8bbb4b70>],\n",
       " 'caps': [<matplotlib.lines.Line2D at 0x1be8bb8a198>,\n",
       "  <matplotlib.lines.Line2D at 0x1be8bb8a470>,\n",
       "  <matplotlib.lines.Line2D at 0x1be8bb985f8>,\n",
       "  <matplotlib.lines.Line2D at 0x1be8bb988d0>,\n",
       "  <matplotlib.lines.Line2D at 0x1be8bba5a20>,\n",
       "  <matplotlib.lines.Line2D at 0x1be8bba5cf8>,\n",
       "  <matplotlib.lines.Line2D at 0x1be8bbb4e48>,\n",
       "  <matplotlib.lines.Line2D at 0x1be8bbc1160>],\n",
       " 'boxes': [<matplotlib.lines.Line2D at 0x1be8bb758d0>,\n",
       "  <matplotlib.lines.Line2D at 0x1be8bb8ad30>,\n",
       "  <matplotlib.lines.Line2D at 0x1be8bba50b8>,\n",
       "  <matplotlib.lines.Line2D at 0x1be8bbb44e0>],\n",
       " 'medians': [<matplotlib.lines.Line2D at 0x1be8bb8a748>,\n",
       "  <matplotlib.lines.Line2D at 0x1be8bb98ba8>,\n",
       "  <matplotlib.lines.Line2D at 0x1be8bba5fd0>,\n",
       "  <matplotlib.lines.Line2D at 0x1be8bbc1438>],\n",
       " 'fliers': [<matplotlib.lines.Line2D at 0x1be8bb8aa20>,\n",
       "  <matplotlib.lines.Line2D at 0x1be8bb98e80>,\n",
       "  <matplotlib.lines.Line2D at 0x1be8bbb42e8>,\n",
       "  <matplotlib.lines.Line2D at 0x1be8bbc1710>],\n",
       " 'means': []}"
      ]
     },
     "execution_count": 5,
     "metadata": {},
     "output_type": "execute_result"
    },
    {
     "data": {
      "image/png": "[encoded data removed]",
      "text/plain": [
       "<Figure size 432x288 with 1 Axes>"
      ]
     },
     "metadata": {
      "needs_background": "light"
     },
     "output_type": "display_data"
    }
   ],
   "source": [
    "plt.boxplot(data.iloc[:,0:4])"
   ]
  },
  {
   "cell_type": "code",
   "execution_count": 6,
   "id": "c2b9b577",
   "metadata": {},
   "outputs": [],
   "source": [
    "Y = pd.Series(data.iloc[:,-1])\n",
    "X = pd.DataFrame(data.iloc[:,0:len(data.columns)-1])"
   ]
  },
  {
   "cell_type": "code",
   "execution_count": 7,
   "id": "6fec8e96",
   "metadata": {},
   "outputs": [],
   "source": [
    "X_train, X_test, Y_train, Y_test = train_test_split(X, Y, test_size=0.66, random_state = 1)"
   ]
  },
  {
   "cell_type": "code",
   "execution_count": 8,
   "id": "988c470f",
   "metadata": {},
   "outputs": [],
   "source": [
    "maxdepth = [2,5,10,15,20]\n",
    "trainAcc = []\n",
    "testAcc = []"
   ]
  },
  {
   "cell_type": "code",
   "execution_count": 9,
   "id": "5b2d2bd1",
   "metadata": {},
   "outputs": [],
   "source": [
    "for i in maxdepth:\n",
    "    dclf = tree.DecisionTreeClassifier(max_depth = i)\n",
    "    dclf = dclf.fit(X_train, Y_train)\n",
    "    Y_predict_train = dclf.predict(X_train)\n",
    "    Y_predict_test = dclf.predict(X_test)\n",
    "    a_train = accuracy_score(Y_train,Y_predict_train)\n",
    "    a_test = accuracy_score(Y_test,Y_predict_test)\n",
    "    trainAcc.append(a_train)\n",
    "    testAcc.append(a_test)"
   ]
  },
  {
   "cell_type": "code",
   "execution_count": 11,
   "id": "5a58d508",
   "metadata": {},
   "outputs": [
    {
     "name": "stdout",
     "output_type": "stream",
     "text": [
      "Train accuracy for levels 2,5,10,15,20 [0.5993031358885017, 0.8606271777003485, 0.9930313588850174, 1.0, 1.0]\n",
      "Test accuracy for levels 2,5,10,15,20 [0.47942754919499103, 0.6762075134168157, 0.6815742397137746, 0.6923076923076923, 0.6797853309481217]\n"
     ]
    }
   ],
   "source": [
    "print(\"Train accuracy for levels 2,5,10,15,20\", trainAcc)\n",
    "print(\"Test accuracy for levels 2,5,10,15,20\" , testAcc)"
   ]
  },
  {
   "cell_type": "code",
   "execution_count": 12,
   "id": "77970ada",
   "metadata": {},
   "outputs": [
    {
     "data": {
      "text/plain": [
       "[<matplotlib.lines.Line2D at 0x1be8bd371d0>,\n",
       " <matplotlib.lines.Line2D at 0x1be8bd37278>]"
      ]
     },
     "execution_count": 12,
     "metadata": {},
     "output_type": "execute_result"
    },
    {
     "data": {
      "image/png": "[encoded data removed]",
      "text/plain": [
       "<Figure size 432x288 with 1 Axes>"
      ]
     },
     "metadata": {
      "needs_background": "light"
     },
     "output_type": "display_data"
    }
   ],
   "source": [
    "plt.plot(maxdepth,trainAcc,'ro-',maxdepth, testAcc,'bv--')"
   ]
  }
 ],
 "metadata": {
  "kernelspec": {
   "display_name": "Python 3",
   "language": "python",
   "name": "python3"
  },
  "language_info": {
   "codemirror_mode": {
    "name": "ipython",
    "version": 3
   },
   "file_extension": ".py",
   "mimetype": "text/x-python",
   "name": "python",
   "nbconvert_exporter": "python",
   "pygments_lexer": "ipython3",
   "version": "3.6.13"
  }
 },
 "nbformat": 4,
 "nbformat_minor": 5
}
